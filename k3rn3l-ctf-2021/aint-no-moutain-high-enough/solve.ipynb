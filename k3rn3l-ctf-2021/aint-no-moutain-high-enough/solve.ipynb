{
 "cells": [
  {
   "cell_type": "markdown",
   "metadata": {},
   "source": [
    "# Ain't No Mountain High Enough\n",
    "\n",
    "The cipher is made of 5 keys, `K1` to `K5`, which are 5×5 matrixes.\n",
    "It can be summed up by the equation: `enc(M) = K5 * K4 * K3 * K2 * K1 * M`.\n",
    "Additionally, we can replace any key `Ki` by the flag `FL` and request encryption."
   ]
  },
  {
   "cell_type": "code",
   "execution_count": 1,
   "metadata": {},
   "outputs": [],
   "source": [
    "N = 5\n",
    "P = 251\n",
    "K = GF(P)"
   ]
  },
  {
   "cell_type": "code",
   "execution_count": 2,
   "metadata": {},
   "outputs": [],
   "source": [
    "def pad(msg, n):\n",
    "    # Bytestrings only pls\n",
    "    if type(msg) == str:\n",
    "        msg = msg.encode()\n",
    "    # Apply random padding\n",
    "    while (len(msg) % (n*n) != 0):\n",
    "        msg += os.urandom(1)\n",
    "    # Matrixfy and return\n",
    "    return [matrix([list(i[j:j+n]) for j in range(0,n*n,n)]).change_ring(K)\n",
    "            for i in [msg[k:k+n*n] for k in range(0,len(msg),n*n)]]"
   ]
  },
  {
   "cell_type": "code",
   "execution_count": 3,
   "metadata": {},
   "outputs": [],
   "source": [
    "def encMC(msg, key):\n",
    "    # Convert msg to matrix\n",
    "    if type(msg) in { str, bytes, list }:\n",
    "        msg = pad(msg, N)\n",
    "\n",
    "    # For all nxn msg matrices\n",
    "    ct = []\n",
    "    for mi in msg:\n",
    "        # Hill-cipher encrypt with every key matrix\n",
    "        for i in range(N):\n",
    "            mi = key[i] * mi\n",
    "        # Add result to ciphertext\n",
    "        ct += [mi]\n",
    "\n",
    "    # Return ciphertext in hex\n",
    "    return ct"
   ]
  },
  {
   "cell_type": "markdown",
   "metadata": {},
   "source": [
    "A very important property of this cipher is that if `E = enc(M)`, then `enc(M * X) = E * X`. This means that if we set `M = Id` we can just ask the server once for `E = enc(Id)` and do everything locally afterward."
   ]
  },
  {
   "cell_type": "code",
   "execution_count": 4,
   "metadata": {},
   "outputs": [],
   "source": [
    "M = MatrixSpace(K, N)\n",
    "m = M.identity_matrix()"
   ]
  },
  {
   "cell_type": "code",
   "execution_count": 5,
   "metadata": {},
   "outputs": [
    {
     "data": {
      "text/plain": [
       "'\\x01\\x00\\x00\\x00\\x00\\x00\\x01\\x00\\x00\\x00\\x00\\x00\\x01\\x00\\x00\\x00\\x00\\x00\\x01\\x00\\x00\\x00\\x00\\x00\\x01'"
      ]
     },
     "execution_count": 5,
     "metadata": {},
     "output_type": "execute_result"
    }
   ],
   "source": [
    "msg = ''.join(map(chr, m.list()))\n",
    "msg"
   ]
  },
  {
   "cell_type": "markdown",
   "metadata": {},
   "source": [
    "The data was gathered using [`get_data.py`](./get_data.py)."
   ]
  },
  {
   "cell_type": "code",
   "execution_count": 6,
   "metadata": {},
   "outputs": [],
   "source": [
    "data = [\n",
    "    b'|   [134, 135, 128,  42, 181]\\n',\n",
    "    b'|   [ 82,   6,  60, 212, 103]\\n',\n",
    "    b'|   [104, 130,  29,  12,  77]\\n',\n",
    "    b'|   [167, 118, 190,  17, 162]\\n',\n",
    "    b'|   [198,  73,  95, 219, 178]\\n',\n",
    "]\n",
    "\n",
    "craw = pad(sum([eval(x[1:].strip().decode()) for x in data], []), N)[0]\n",
    "# craw = K5 * K4 * K3 * K2 * K1"
   ]
  },
  {
   "cell_type": "code",
   "execution_count": 7,
   "metadata": {},
   "outputs": [],
   "source": [
    "data = [\n",
    "    b'|   [176, 106, 194,  92,  83]\\n',\n",
    "    b'|   [142, 143, 149,   2, 233]\\n',\n",
    "    b'|   [150,  52,  87, 154, 177]\\n',\n",
    "    b'|   [ 77, 219,  13, 235, 112]\\n',\n",
    "    b'|   [ 73,  83,   8, 245, 166]\\n',\n",
    "    \n",
    "    b'|   [152, 233,  74, 169, 143]\\n',\n",
    "    b'|   [  6,  66,  71,  46, 169]\\n',\n",
    "    b'|   [117,  98,  54, 241, 166]\\n',\n",
    "    b'|   [209, 149,  25,  62,  45]\\n',\n",
    "    b'|   [236,  44, 101, 137, 244]\\n',\n",
    "    \n",
    "    b'|   [100, 214,  47,  28, 217]\\n',\n",
    "    b'|   [ 72, 220, 189, 143,  92]\\n',\n",
    "    b'|   [200,  73, 165,  12, 138]\\n',\n",
    "    b'|   [ 99, 139, 222,  89, 131]\\n',\n",
    "    b'|   [106, 214, 149,  94, 186]\\n',\n",
    "    \n",
    "    b'|   [ 97,  77, 208,  34, 239]\\n',\n",
    "    b'|   [191, 236,  13,   8,  53]\\n',\n",
    "    b'|   [ 69, 229, 141, 248, 132]\\n',\n",
    "    b'|   [233, 152, 185, 119, 192]\\n',\n",
    "    b'|   [132,  77,  69,  76,  78]\\n',\n",
    "    \n",
    "    b'|   [ 30,  19,  95, 220, 219]\\n',\n",
    "    b'|   [153,  17, 137, 245, 215]\\n',\n",
    "    b'|   [ 44,  16,  87,   6,  86]\\n',\n",
    "    b'|   [ 66, 111, 173, 207,  64]\\n',\n",
    "    b'|   [139,   7,  65, 249, 233]\\n',\n",
    "]\n",
    "\n",
    "cflag = pad(sum([eval(x[1:].strip().decode()) for x in data], []), N)\n",
    "# cflag = [\n",
    "#     FL * K4 * K3 * K2 * K1,\n",
    "#     K5 * FL * K3 * K2 * K1,\n",
    "#     K5 * K4 * FL * K2 * K1,\n",
    "#     K5 * K4 * K3 * FL * K1,\n",
    "#     K5 * K4 * K3 * K2 * FL,\n",
    "# ]"
   ]
  },
  {
   "cell_type": "markdown",
   "metadata": {},
   "source": [
    "In our quest to retrieve `FL`, we might try to multiply the content of `cflag` by `craw^-1` in order to remove the noise at the right.\n",
    "\n",
    "We would get the following entries:\n",
    "```\n",
    "(1) FL * K5^-1\n",
    "(2) K5 * FL * K4^-1 * K5^-1\n",
    "(3) K5 * K4 * FL * K3^-1 * K4^-1 * K5^-1\n",
    "(4) K5 * K4 * K3 * FL * K2^-1 * K3^-1 * K4^-1 * K5^-1\n",
    "(5): K5 * K4 * K3 * K2 * FL * craw^-1\n",
    "```\n",
    "\n",
    "It is interesting to see that the trailing noise of `(i)` is the inverse of the leading noise of `(i+1)`:\n",
    "```\n",
    "  (1) * (2) * (3) * (4) * (5)\n",
    "= (FL * K5^-1) * (K5 * FL * K4^-1 * K5^-1) * (3) * (4) * (5)\n",
    "= FL^2 * K4^-1 * K5^-1 * (K5 * K4 * FL * K3^-1 * K4^-1 * K5^-1) * (4) * (5)\n",
    "= ...\n",
    "= FL^5 * craw^-1\n",
    "```\n",
    "\n",
    "If we multiply this quantity by `craw`, we will thus know `FL^5`."
   ]
  },
  {
   "cell_type": "code",
   "execution_count": 8,
   "metadata": {},
   "outputs": [
    {
     "data": {
      "text/plain": [
       "[ 62 170 162 116  44]\n",
       "[ 95 160 148 199 165]\n",
       "[174 159 192   9 105]\n",
       "[ 38  24 216 115 108]\n",
       "[198  13  17 201  51]"
      ]
     },
     "execution_count": 8,
     "metadata": {},
     "output_type": "execute_result"
    }
   ],
   "source": [
    "FL5 = prod(cf/craw for cf in cflag) * craw\n",
    "FL5"
   ]
  },
  {
   "cell_type": "markdown",
   "metadata": {},
   "source": [
    "Knowing `X^5`, how can we know `X`? When `X = P*D*P^-1` with `D` a diagonal matrix, `X^(1/5) = P*D^(1/5)*P^-1`. Hence we can know one 5th root of `X` by searching fifth roots of the diagonal of `D`."
   ]
  },
  {
   "cell_type": "code",
   "execution_count": 9,
   "metadata": {},
   "outputs": [],
   "source": [
    "D, P = FL5.diagonalization()"
   ]
  },
  {
   "cell_type": "code",
   "execution_count": 10,
   "metadata": {},
   "outputs": [
    {
     "data": {
      "text/plain": [
       "[[129, 139, 70, 19, 145],\n",
       " [143, 193, 99, 95, 223],\n",
       " [101, 31, 12, 118, 240],\n",
       " [228, 234, 42, 162, 87],\n",
       " [105, 154, 92, 68, 83]]"
      ]
     },
     "execution_count": 10,
     "metadata": {},
     "output_type": "execute_result"
    }
   ],
   "source": [
    "all_diag = [d.nth_root(5, all=True) for d in D.diagonal()]\n",
    "all_diag"
   ]
  },
  {
   "cell_type": "code",
   "execution_count": 12,
   "metadata": {},
   "outputs": [
    {
     "name": "stdout",
     "output_type": "stream",
     "text": [
      "n0_m0uNtAin_2_hIGh_F0R_u!\n"
     ]
    }
   ],
   "source": [
    "from itertools import product\n",
    "\n",
    "for diag in product(*all_diag):\n",
    "    FL = P * M.diagonal_matrix(diag) * P^-1\n",
    "    flag = ''.join(chr(x%251) for x in FL.list())\n",
    "    if flag.isascii():\n",
    "        print(flag)"
   ]
  }
 ],
 "metadata": {
  "kernelspec": {
   "display_name": "SageMath 9.2",
   "language": "sage",
   "name": "sagemath"
  },
  "language_info": {
   "codemirror_mode": {
    "name": "ipython",
    "version": 3
   },
   "file_extension": ".py",
   "mimetype": "text/x-python",
   "name": "python",
   "nbconvert_exporter": "python",
   "pygments_lexer": "ipython3",
   "version": "3.7.7"
  }
 },
 "nbformat": 4,
 "nbformat_minor": 4
}
